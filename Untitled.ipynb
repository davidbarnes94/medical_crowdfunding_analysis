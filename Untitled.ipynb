{
 "cells": [
  {
   "cell_type": "code",
   "execution_count": 47,
   "metadata": {},
   "outputs": [],
   "source": [
    "import numpy as np\n",
    "import pandas as pd\n",
    "import seaborn as sns\n",
    "import chardet\n",
    "\n",
    "def explore_dataset(df=housing_data):\n",
    "    print(\"Number of columns in dataset: {0}\".format(len(df.columns)))\n",
    "    \n",
    "    print(\"**********************************************************************************************\\n\")\n",
    "    \n",
    "    print(\"Column names:\")\n",
    "    print(df.columns.values)\n",
    "    \n",
    "    print(\"**********************************************************************************************\\n\")\n",
    "    \n",
    "    print(\"Here are the first 5 rows:\")\n",
    "    print(df.head())\n",
    "    \n",
    "    print(\"**********************************************************************************************\\n\")\n",
    "    \n",
    "    print(df.describe())\n",
    "    \n",
    "    \n",
    "    print(\"**********************************************************************************************\\n\")\n",
    "    \n",
    "    #check for missing values\n",
    "    print(\"Number of missing values per column:\")\n",
    "    print(df.isnull().sum())\n",
    "    \n",
    "    print(\"**********************************************************************************************\\n\")\n",
    "    \n",
    "    #Is the variable continuous, count, ordinal, categorial, missing, censored\n",
    "    print(\"Column Types:\")\n",
    "    print(df.dtypes)\n",
    "    \n",
    "    print(\"**********************************************************************************************\\n\")\n",
    "    \n",
    "    #Is there inconsistent text entry in a column\n",
    "    \n",
    "    #make histograms\n",
    "    \n",
    "    #make boxplots\n",
    "    pass\n",
    "    "
   ]
  },
  {
   "cell_type": "code",
   "execution_count": 7,
   "metadata": {},
   "outputs": [
    {
     "name": "stdout",
     "output_type": "stream",
     "text": [
      "{'encoding': 'Windows-1252', 'confidence': 0.7260862905284656, 'language': ''}\n"
     ]
    }
   ],
   "source": [
    "#pokemon = pd.read_csv(\"Pokemon.csv\") #file isn't utf-8\n",
    "\n",
    "# look at the first ten thousand bytes to guess the character encoding\n",
    "with open(\"Pokemon.csv\", 'rb') as rawdata:\n",
    "    result = chardet.detect(rawdata.read(10000))\n",
    "\n",
    "# check what the character encoding might be\n",
    "print(result)\n"
   ]
  },
  {
   "cell_type": "code",
   "execution_count": 8,
   "metadata": {
    "collapsed": true
   },
   "outputs": [],
   "source": [
    "pokemon = pd.read_csv(\"Pokemon.csv\", encoding = 'Windows-1252')"
   ]
  },
  {
   "cell_type": "code",
   "execution_count": 48,
   "metadata": {},
   "outputs": [
    {
     "name": "stdout",
     "output_type": "stream",
     "text": [
      "Number of columns in dataset: 14\n",
      "**********************************************************************************************\n",
      "\n",
      "Column names:\n",
      "['CRIM' 'ZN' 'INDUS' 'CHAS' 'NOX' 'RM' 'AGE' 'DIS' 'RAD' 'TAX' 'PTRATIO'\n",
      " 'B' 'LSTAT' 'MEDV']\n",
      "**********************************************************************************************\n",
      "\n",
      "Here are the first 5 rows:\n",
      "      CRIM ZN INDUS CHAS    NOX     RM   AGE     DIS RAD  TAX PTRATIO       B  \\\n",
      "0  0.02731  0  7.07    0  0.469  6.421  78.9  4.9671   2  242    17.8   396.9   \n",
      "1  0.02729  0  7.07    0  0.469  7.185  61.1  4.9671   2  242    17.8  392.83   \n",
      "2  0.03237  0  2.18    0  0.458  6.998  45.8  6.0622   3  222    18.7  394.63   \n",
      "3  0.06905  0  2.18    0  0.458  7.147  54.2  6.0622   3  222    18.7   396.9   \n",
      "4  0.02985  0  2.18    0  0.458   6.43  58.7  6.0622   3  222    18.7  394.12   \n",
      "\n",
      "  LSTAT  MEDV  \n",
      "0  9.14  21.6  \n",
      "1  4.03  34.7  \n",
      "2  2.94  33.4  \n",
      "3  5.33  36.2  \n",
      "4  5.21  28.7  \n",
      "**********************************************************************************************\n",
      "\n",
      "             CRIM     ZN  INDUS  CHAS      NOX       RM    AGE       DIS  RAD  \\\n",
      "count   506.00000  506.0  506.0   506  506.000  506.000  506.0  506.0000  506   \n",
      "unique  504.00000   26.0   76.0     3   82.000  446.000  357.0  412.0000   10   \n",
      "top       0.01501    0.0   18.1     0    0.538    5.713  100.0    3.4952   24   \n",
      "freq      2.00000  372.0  132.0   470   22.000    3.000   43.0    5.0000  132   \n",
      "\n",
      "        TAX  PTRATIO      B  LSTAT   MEDV  \n",
      "count   506    506.0  506.0  506.0  506.0  \n",
      "unique   67     47.0  358.0  455.0  230.0  \n",
      "top     666     20.2  396.9   14.1   50.0  \n",
      "freq    132    140.0  120.0    3.0   16.0  \n",
      "**********************************************************************************************\n",
      "\n",
      "Number of missing values per column:\n",
      "CRIM       0\n",
      "ZN         0\n",
      "INDUS      0\n",
      "CHAS       0\n",
      "NOX        0\n",
      "RM         0\n",
      "AGE        0\n",
      "DIS        0\n",
      "RAD        0\n",
      "TAX        0\n",
      "PTRATIO    0\n",
      "B          0\n",
      "LSTAT      0\n",
      "MEDV       0\n",
      "dtype: int64\n",
      "**********************************************************************************************\n",
      "\n",
      "Column Types:\n",
      "CRIM       object\n",
      "ZN         object\n",
      "INDUS      object\n",
      "CHAS       object\n",
      "NOX        object\n",
      "RM         object\n",
      "AGE        object\n",
      "DIS        object\n",
      "RAD        object\n",
      "TAX        object\n",
      "PTRATIO    object\n",
      "B          object\n",
      "LSTAT      object\n",
      "MEDV       object\n",
      "dtype: object\n",
      "**********************************************************************************************\n",
      "\n"
     ]
    }
   ],
   "source": [
    "explore_dataset()"
   ]
  },
  {
   "cell_type": "code",
   "execution_count": 12,
   "metadata": {},
   "outputs": [
    {
     "name": "stdout",
     "output_type": "stream",
     "text": [
      "{'encoding': 'ISO-8859-1', 'confidence': 0.7091144414168937, 'language': ''}\n"
     ]
    }
   ],
   "source": [
    "#boston_housing = pd.read_csv(\"boston_housing.csv\")\n",
    "\n",
    "# look at the first ten thousand bytes to guess the character encoding\n",
    "with open(\"boston_housing.csv\", 'rb') as rawdata:\n",
    "    result = chardet.detect(rawdata.read(10000))\n",
    "\n",
    "# check what the character encoding might be\n",
    "print(result)"
   ]
  },
  {
   "cell_type": "code",
   "execution_count": 13,
   "metadata": {
    "collapsed": true
   },
   "outputs": [],
   "source": [
    "boston_housing = pd.read_csv(\"boston_housing.csv\", encoding = 'ISO-8859-1')"
   ]
  },
  {
   "cell_type": "code",
   "execution_count": 15,
   "metadata": {},
   "outputs": [
    {
     "data": {
      "text/html": [
       "<div>\n",
       "<style>\n",
       "    .dataframe thead tr:only-child th {\n",
       "        text-align: right;\n",
       "    }\n",
       "\n",
       "    .dataframe thead th {\n",
       "        text-align: left;\n",
       "    }\n",
       "\n",
       "    .dataframe tbody tr th {\n",
       "        vertical-align: top;\n",
       "    }\n",
       "</style>\n",
       "<table border=\"1\" class=\"dataframe\">\n",
       "  <thead>\n",
       "    <tr style=\"text-align: right;\">\n",
       "      <th></th>\n",
       "      <th></th>\n",
       "      <th></th>\n",
       "      <th></th>\n",
       "      <th></th>\n",
       "      <th></th>\n",
       "      <th></th>\n",
       "      <th></th>\n",
       "      <th></th>\n",
       "      <th></th>\n",
       "      <th></th>\n",
       "      <th></th>\n",
       "      <th>bplist00Ñ\u0001\u0002_\u0010\u000fWebMainResourceÕ\u0003\u0004\u0005\u0006\u0007\b</th>\n",
       "    </tr>\n",
       "  </thead>\n",
       "  <tbody>\n",
       "    <tr>\n",
       "      <th>_\u0010\u000fWebResourceData_\u0010\u0013WebResourceMIMEType_\u0010\u001bWebResourceTextEncodingName^WebResourceURL_\u0010\u0014WebResourceFrameNameO\u0011\u001f·&lt;html&gt;&lt;head&gt;&lt;style&gt;&lt;/style&gt;&lt;/head&gt;&lt;body&gt;&lt;pre style=\"word-wrap: break-word; white-space: pre-wrap;\"&gt;#</th>\n",
       "      <th>Name</th>\n",
       "      <th>Type 1</th>\n",
       "      <th>Type 2</th>\n",
       "      <th>Total</th>\n",
       "      <th>HP</th>\n",
       "      <th>Attack</th>\n",
       "      <th>Defense</th>\n",
       "      <th>Sp. Atk</th>\n",
       "      <th>Sp. Def</th>\n",
       "      <th>Speed</th>\n",
       "      <th>Stage</th>\n",
       "      <td>Legendary</td>\n",
       "    </tr>\n",
       "    <tr>\n",
       "      <th>1</th>\n",
       "      <th>Bulbasaur</th>\n",
       "      <th>Grass</th>\n",
       "      <th>Poison</th>\n",
       "      <th>318</th>\n",
       "      <th>45</th>\n",
       "      <th>49</th>\n",
       "      <th>49</th>\n",
       "      <th>65</th>\n",
       "      <th>65</th>\n",
       "      <th>45</th>\n",
       "      <th>1</th>\n",
       "      <td>FALSE</td>\n",
       "    </tr>\n",
       "    <tr>\n",
       "      <th>2</th>\n",
       "      <th>Ivysaur</th>\n",
       "      <th>Grass</th>\n",
       "      <th>Poison</th>\n",
       "      <th>405</th>\n",
       "      <th>60</th>\n",
       "      <th>62</th>\n",
       "      <th>63</th>\n",
       "      <th>80</th>\n",
       "      <th>80</th>\n",
       "      <th>60</th>\n",
       "      <th>2</th>\n",
       "      <td>FALSE</td>\n",
       "    </tr>\n",
       "    <tr>\n",
       "      <th>3</th>\n",
       "      <th>Venusaur</th>\n",
       "      <th>Grass</th>\n",
       "      <th>Poison</th>\n",
       "      <th>525</th>\n",
       "      <th>80</th>\n",
       "      <th>82</th>\n",
       "      <th>83</th>\n",
       "      <th>100</th>\n",
       "      <th>100</th>\n",
       "      <th>80</th>\n",
       "      <th>3</th>\n",
       "      <td>FALSE</td>\n",
       "    </tr>\n",
       "    <tr>\n",
       "      <th>4</th>\n",
       "      <th>Charmander</th>\n",
       "      <th>Fire</th>\n",
       "      <th>NaN</th>\n",
       "      <th>309</th>\n",
       "      <th>39</th>\n",
       "      <th>52</th>\n",
       "      <th>43</th>\n",
       "      <th>60</th>\n",
       "      <th>50</th>\n",
       "      <th>65</th>\n",
       "      <th>1</th>\n",
       "      <td>FALSE</td>\n",
       "    </tr>\n",
       "  </tbody>\n",
       "</table>\n",
       "</div>"
      ],
      "text/plain": [
       "                                                                                                                                bplist00Ñ\u0001\u0002_\u0010\u000fWebMainResourceÕ\u0003\u0004\u0005\u0006\u0007\b\\t\n",
       "\n",
       "\n",
       "_\u0010\u000fWebResourceData_\u0010\u0013WebResourceMIMEType_\u0010\u001bWe... Name       Type 1 Type 2 Total HP Attack Defense Sp. Atk Sp. Def Speed Stage                              Legendary\n",
       "1                                                  Bulbasaur  Grass  Poison 318   45 49     49      65      65      45    1                                      FALSE\n",
       "2                                                  Ivysaur    Grass  Poison 405   60 62     63      80      80      60    2                                      FALSE\n",
       "3                                                  Venusaur   Grass  Poison 525   80 82     83      100     100     80    3                                      FALSE\n",
       "4                                                  Charmander Fire   NaN    309   39 52     43      60      50      65    1                                      FALSE"
      ]
     },
     "execution_count": 15,
     "metadata": {},
     "output_type": "execute_result"
    }
   ],
   "source": [
    "boston_housing.head()\n",
    "pokemon.head()"
   ]
  },
  {
   "cell_type": "code",
   "execution_count": 16,
   "metadata": {
    "collapsed": true
   },
   "outputs": [],
   "source": [
    "housing_data = pd.read_csv(\"housingdata.csv\")\n"
   ]
  },
  {
   "cell_type": "code",
   "execution_count": 41,
   "metadata": {},
   "outputs": [],
   "source": [
    "new_row = list(housing_data.columns.values)\n",
    "housing_data.loc[len(housing_data)] = new_row"
   ]
  },
  {
   "cell_type": "code",
   "execution_count": 45,
   "metadata": {
    "collapsed": true
   },
   "outputs": [],
   "source": [
    "housing_data.columns = ['CRIM', 'ZN', 'INDUS', 'CHAS', 'NOX', 'RM', 'AGE', 'DIS', 'RAD', 'TAX', 'PTRATIO',\n",
    "                       'B', 'LSTAT', 'MEDV']"
   ]
  },
  {
   "cell_type": "code",
   "execution_count": null,
   "metadata": {
    "collapsed": true
   },
   "outputs": [],
   "source": []
  }
 ],
 "metadata": {
  "kernelspec": {
   "display_name": "Python 3",
   "language": "python",
   "name": "python3"
  },
  "language_info": {
   "codemirror_mode": {
    "name": "ipython",
    "version": 3
   },
   "file_extension": ".py",
   "mimetype": "text/x-python",
   "name": "python",
   "nbconvert_exporter": "python",
   "pygments_lexer": "ipython3",
   "version": "3.6.1"
  }
 },
 "nbformat": 4,
 "nbformat_minor": 2
}

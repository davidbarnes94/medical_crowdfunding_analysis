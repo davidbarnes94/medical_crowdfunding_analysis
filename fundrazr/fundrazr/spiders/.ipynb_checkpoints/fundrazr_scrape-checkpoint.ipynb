{
 "cells": [
  {
   "cell_type": "code",
   "execution_count": null,
   "metadata": {
    "collapsed": true
   },
   "outputs": [],
   "source": [
    "import scrapy\n",
    "from fundrazr.items import FundrazrItem\n",
    "from datetime import datetime\n",
    "import re\n",
    "\n",
    "\n",
    "class Fundrazr(scrapy.Spider):\n",
    "\tname = \"my_scraper\"\n",
    "\n",
    "\t# First Start Url\n",
    "\tstart_urls = [\"https://fundrazr.com/find?category=Health\"]\n",
    "\n",
    "\tnpages = 2\n",
    "\n",
    "\t# This mimics getting the pages using the next button. \n",
    "\tfor i in range(2, npages + 2):\n",
    "\t\tstart_urls.append(\"https://fundrazr.com/find?category=Health&page=\"+str(i)+\"\")\n",
    "\t\n",
    "\tdef parse(self, response):\n",
    "\t\tfor href in response.xpath(\"//h2[contains(@class, 'title headline-font')]/a[contains(@class, 'campaign-link')]//@href\"):\n",
    "\t\t\t# add the scheme, eg http://\n",
    "\t\t\turl  = \"https:\" + href.extract() \n",
    "\t\t\tyield scrapy.Request(url, callback=self.parse_dir_contents)\t\n",
    "\t\t\t\t\t\n",
    "\tdef parse_dir_contents(self, response):\n",
    "\t\titem = FundrazrItem()\n",
    "\n",
    "\t\t# Getting Campaign Title\n",
    "\t\titem['campaignTitle'] = response.xpath(\"//div[contains(@id, 'campaign-title')]/descendant::text()\").extract()[0].strip()\n",
    "\n",
    "\t\t# Getting Amount Raised\n",
    "\t\titem['amountRaised']= response.xpath(\"//span[contains(@class, 'stat')]/span[contains(@class, 'amount-raised')]/descendant::text()\").extract()\n",
    "\n",
    "\t\t# Goal\n",
    "\t\titem['goal'] = \" \".join(response.xpath(\"//div[contains(@class, 'stats-primary with-goal')]//span[contains(@class, 'stats-label hidden-phone')]/text()\").extract()).strip()\n",
    "\n",
    "\t\t# Currency Type (US Dollar Etc)\n",
    "\t\titem['currencyType'] = response.xpath(\"//div[contains(@class, 'stats-primary with-goal')]/@title\").extract()\n",
    "\n",
    "\t\t# Campaign End (Month year etc)\n",
    "\t\titem['endDate'] = \"\".join(response.xpath(\"//div[contains(@id, 'campaign-stats')]//span[contains(@class,'stats-label hidden-phone')]/span[@class='nowrap']/text()\").extract()).strip()\n",
    "\n",
    "\t\t# Number of contributors\n",
    "\t\titem['numberContributors'] = response.xpath(\"//div[contains(@class, 'stats-secondary with-goal')]//span[contains(@class, 'donation-count stat')]/text()\").extract()\n",
    "\n",
    "\t\t# Getting Story\n",
    "\t\tstory_list = response.xpath(\"//div[contains(@id, 'full-story')]/descendant::text()\").extract()\n",
    "\t\tstory_list = [x.strip() for x in story_list if len(x.strip()) > 0]\n",
    "\t\titem['story']  = \" \".join(story_list)\n",
    "\n",
    "\t\t# Url (The link to the page)\n",
    "\t\titem['url'] = response.xpath(\"//meta[@property='og:url']/@content\").extract()\n",
    "\n",
    "\t\tyield item\n"
   ]
  }
 ],
 "metadata": {
  "kernelspec": {
   "display_name": "Python 3",
   "language": "python",
   "name": "python3"
  },
  "language_info": {
   "codemirror_mode": {
    "name": "ipython",
    "version": 3
   },
   "file_extension": ".py",
   "mimetype": "text/x-python",
   "name": "python",
   "nbconvert_exporter": "python",
   "pygments_lexer": "ipython3",
   "version": "3.6.1"
  }
 },
 "nbformat": 4,
 "nbformat_minor": 2
}
